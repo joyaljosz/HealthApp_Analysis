{
 "cells": [
  {
   "cell_type": "code",
   "execution_count": 1,
   "id": "b143ee79",
   "metadata": {},
   "outputs": [],
   "source": [
    "import numpy as np\n",
    "import pandas as pd\n",
    "import matplotlib.pyplot as plt"
   ]
  },
  {
   "cell_type": "code",
   "execution_count": 2,
   "id": "4e020ac2",
   "metadata": {},
   "outputs": [],
   "source": [
    "df = pd.read_csv('HealthApp_2k.log_structured.csv',encoding='ascii')"
   ]
  },
  {
   "cell_type": "code",
   "execution_count": 3,
   "id": "92024188",
   "metadata": {},
   "outputs": [
    {
     "data": {
      "text/html": [
       "<div>\n",
       "<style scoped>\n",
       "    .dataframe tbody tr th:only-of-type {\n",
       "        vertical-align: middle;\n",
       "    }\n",
       "\n",
       "    .dataframe tbody tr th {\n",
       "        vertical-align: top;\n",
       "    }\n",
       "\n",
       "    .dataframe thead th {\n",
       "        text-align: right;\n",
       "    }\n",
       "</style>\n",
       "<table border=\"1\" class=\"dataframe\">\n",
       "  <thead>\n",
       "    <tr style=\"text-align: right;\">\n",
       "      <th></th>\n",
       "      <th>LineId</th>\n",
       "      <th>Time</th>\n",
       "      <th>Component</th>\n",
       "      <th>Pid</th>\n",
       "      <th>Content</th>\n",
       "      <th>EventId</th>\n",
       "      <th>EventTemplate</th>\n",
       "    </tr>\n",
       "  </thead>\n",
       "  <tbody>\n",
       "    <tr>\n",
       "      <th>0</th>\n",
       "      <td>1</td>\n",
       "      <td>20171223-22:15:29:606</td>\n",
       "      <td>Step_LSC</td>\n",
       "      <td>30002312</td>\n",
       "      <td>onStandStepChanged 3579</td>\n",
       "      <td>E42</td>\n",
       "      <td>onStandStepChanged &lt;*&gt;</td>\n",
       "    </tr>\n",
       "    <tr>\n",
       "      <th>1</th>\n",
       "      <td>2</td>\n",
       "      <td>20171223-22:15:29:615</td>\n",
       "      <td>Step_LSC</td>\n",
       "      <td>30002312</td>\n",
       "      <td>onExtend:1514038530000 14 0 4</td>\n",
       "      <td>E39</td>\n",
       "      <td>onExtend:&lt;*&gt; &lt;*&gt; &lt;*&gt; &lt;*&gt;</td>\n",
       "    </tr>\n",
       "    <tr>\n",
       "      <th>2</th>\n",
       "      <td>3</td>\n",
       "      <td>20171223-22:15:29:633</td>\n",
       "      <td>Step_StandReportReceiver</td>\n",
       "      <td>30002312</td>\n",
       "      <td>onReceive action: android.intent.action.SCREEN_ON</td>\n",
       "      <td>E41</td>\n",
       "      <td>onReceive action: android.intent.action.SCREEN_ON</td>\n",
       "    </tr>\n",
       "    <tr>\n",
       "      <th>3</th>\n",
       "      <td>4</td>\n",
       "      <td>20171223-22:15:29:635</td>\n",
       "      <td>Step_LSC</td>\n",
       "      <td>30002312</td>\n",
       "      <td>processHandleBroadcastAction action:android.in...</td>\n",
       "      <td>E43</td>\n",
       "      <td>processHandleBroadcastAction action:android.in...</td>\n",
       "    </tr>\n",
       "    <tr>\n",
       "      <th>4</th>\n",
       "      <td>5</td>\n",
       "      <td>20171223-22:15:29:635</td>\n",
       "      <td>Step_StandStepCounter</td>\n",
       "      <td>30002312</td>\n",
       "      <td>flush sensor data</td>\n",
       "      <td>E12</td>\n",
       "      <td>flush sensor data</td>\n",
       "    </tr>\n",
       "  </tbody>\n",
       "</table>\n",
       "</div>"
      ],
      "text/plain": [
       "   LineId                   Time                 Component       Pid  \\\n",
       "0       1  20171223-22:15:29:606                  Step_LSC  30002312   \n",
       "1       2  20171223-22:15:29:615                  Step_LSC  30002312   \n",
       "2       3  20171223-22:15:29:633  Step_StandReportReceiver  30002312   \n",
       "3       4  20171223-22:15:29:635                  Step_LSC  30002312   \n",
       "4       5  20171223-22:15:29:635     Step_StandStepCounter  30002312   \n",
       "\n",
       "                                             Content EventId  \\\n",
       "0                            onStandStepChanged 3579     E42   \n",
       "1                      onExtend:1514038530000 14 0 4     E39   \n",
       "2  onReceive action: android.intent.action.SCREEN_ON     E41   \n",
       "3  processHandleBroadcastAction action:android.in...     E43   \n",
       "4                                  flush sensor data     E12   \n",
       "\n",
       "                                       EventTemplate  \n",
       "0                             onStandStepChanged <*>  \n",
       "1                           onExtend:<*> <*> <*> <*>  \n",
       "2  onReceive action: android.intent.action.SCREEN_ON  \n",
       "3  processHandleBroadcastAction action:android.in...  \n",
       "4                                  flush sensor data  "
      ]
     },
     "execution_count": 3,
     "metadata": {},
     "output_type": "execute_result"
    }
   ],
   "source": [
    "df.head()"
   ]
  },
  {
   "cell_type": "code",
   "execution_count": 4,
   "id": "2ef0fe07",
   "metadata": {},
   "outputs": [
    {
     "name": "stdout",
     "output_type": "stream",
     "text": [
      "<class 'pandas.core.frame.DataFrame'>\n",
      "RangeIndex: 2000 entries, 0 to 1999\n",
      "Data columns (total 7 columns):\n",
      " #   Column         Non-Null Count  Dtype \n",
      "---  ------         --------------  ----- \n",
      " 0   LineId         2000 non-null   int64 \n",
      " 1   Time           2000 non-null   object\n",
      " 2   Component      2000 non-null   object\n",
      " 3   Pid            2000 non-null   int64 \n",
      " 4   Content        2000 non-null   object\n",
      " 5   EventId        2000 non-null   object\n",
      " 6   EventTemplate  2000 non-null   object\n",
      "dtypes: int64(2), object(5)\n",
      "memory usage: 109.5+ KB\n"
     ]
    }
   ],
   "source": [
    "df.info()"
   ]
  },
  {
   "cell_type": "code",
   "execution_count": 5,
   "id": "55ca514d",
   "metadata": {
    "scrolled": true
   },
   "outputs": [
    {
     "data": {
      "text/html": [
       "<div>\n",
       "<style scoped>\n",
       "    .dataframe tbody tr th:only-of-type {\n",
       "        vertical-align: middle;\n",
       "    }\n",
       "\n",
       "    .dataframe tbody tr th {\n",
       "        vertical-align: top;\n",
       "    }\n",
       "\n",
       "    .dataframe thead th {\n",
       "        text-align: right;\n",
       "    }\n",
       "</style>\n",
       "<table border=\"1\" class=\"dataframe\">\n",
       "  <thead>\n",
       "    <tr style=\"text-align: right;\">\n",
       "      <th></th>\n",
       "      <th>LineId</th>\n",
       "      <th>Pid</th>\n",
       "    </tr>\n",
       "  </thead>\n",
       "  <tbody>\n",
       "    <tr>\n",
       "      <th>count</th>\n",
       "      <td>2000.000000</td>\n",
       "      <td>2000.0</td>\n",
       "    </tr>\n",
       "    <tr>\n",
       "      <th>mean</th>\n",
       "      <td>1000.500000</td>\n",
       "      <td>30002312.0</td>\n",
       "    </tr>\n",
       "    <tr>\n",
       "      <th>std</th>\n",
       "      <td>577.494589</td>\n",
       "      <td>0.0</td>\n",
       "    </tr>\n",
       "    <tr>\n",
       "      <th>min</th>\n",
       "      <td>1.000000</td>\n",
       "      <td>30002312.0</td>\n",
       "    </tr>\n",
       "    <tr>\n",
       "      <th>25%</th>\n",
       "      <td>500.750000</td>\n",
       "      <td>30002312.0</td>\n",
       "    </tr>\n",
       "    <tr>\n",
       "      <th>50%</th>\n",
       "      <td>1000.500000</td>\n",
       "      <td>30002312.0</td>\n",
       "    </tr>\n",
       "    <tr>\n",
       "      <th>75%</th>\n",
       "      <td>1500.250000</td>\n",
       "      <td>30002312.0</td>\n",
       "    </tr>\n",
       "    <tr>\n",
       "      <th>max</th>\n",
       "      <td>2000.000000</td>\n",
       "      <td>30002312.0</td>\n",
       "    </tr>\n",
       "  </tbody>\n",
       "</table>\n",
       "</div>"
      ],
      "text/plain": [
       "            LineId         Pid\n",
       "count  2000.000000      2000.0\n",
       "mean   1000.500000  30002312.0\n",
       "std     577.494589         0.0\n",
       "min       1.000000  30002312.0\n",
       "25%     500.750000  30002312.0\n",
       "50%    1000.500000  30002312.0\n",
       "75%    1500.250000  30002312.0\n",
       "max    2000.000000  30002312.0"
      ]
     },
     "execution_count": 5,
     "metadata": {},
     "output_type": "execute_result"
    }
   ],
   "source": [
    "df.describe()"
   ]
  },
  {
   "cell_type": "code",
   "execution_count": 6,
   "id": "505b1b98",
   "metadata": {},
   "outputs": [
    {
     "data": {
      "text/plain": [
       "(2000, 7)"
      ]
     },
     "execution_count": 6,
     "metadata": {},
     "output_type": "execute_result"
    }
   ],
   "source": [
    "df.shape"
   ]
  },
  {
   "cell_type": "code",
   "execution_count": 7,
   "id": "0aed6c4d",
   "metadata": {},
   "outputs": [],
   "source": [
    "# Converting time to date and time\n",
    "df['Time'] = pd.to_datetime(df['Time'], format='%Y%m%d-%H:%M:%S:%f', errors='coerce')"
   ]
  },
  {
   "cell_type": "code",
   "execution_count": 8,
   "id": "d22d050e",
   "metadata": {},
   "outputs": [],
   "source": [
    "# Extract features from time\n",
    "df['Hour'] = df['Time'].dt.hour\n",
    "df['Day'] = df['Time'].dt.day\n",
    "df['Month'] = df['Time'].dt.month\n",
    "df['Year'] = df['Time'].dt.year"
   ]
  },
  {
   "cell_type": "code",
   "execution_count": 9,
   "id": "333f0c21",
   "metadata": {
    "scrolled": true
   },
   "outputs": [
    {
     "data": {
      "text/html": [
       "<div>\n",
       "<style scoped>\n",
       "    .dataframe tbody tr th:only-of-type {\n",
       "        vertical-align: middle;\n",
       "    }\n",
       "\n",
       "    .dataframe tbody tr th {\n",
       "        vertical-align: top;\n",
       "    }\n",
       "\n",
       "    .dataframe thead th {\n",
       "        text-align: right;\n",
       "    }\n",
       "</style>\n",
       "<table border=\"1\" class=\"dataframe\">\n",
       "  <thead>\n",
       "    <tr style=\"text-align: right;\">\n",
       "      <th></th>\n",
       "      <th>LineId</th>\n",
       "      <th>Time</th>\n",
       "      <th>Component</th>\n",
       "      <th>Pid</th>\n",
       "      <th>Content</th>\n",
       "      <th>EventId</th>\n",
       "      <th>EventTemplate</th>\n",
       "      <th>Hour</th>\n",
       "      <th>Day</th>\n",
       "      <th>Month</th>\n",
       "      <th>Year</th>\n",
       "    </tr>\n",
       "  </thead>\n",
       "  <tbody>\n",
       "    <tr>\n",
       "      <th>0</th>\n",
       "      <td>1</td>\n",
       "      <td>2017-12-23 22:15:29.606</td>\n",
       "      <td>Step_LSC</td>\n",
       "      <td>30002312</td>\n",
       "      <td>onStandStepChanged 3579</td>\n",
       "      <td>E42</td>\n",
       "      <td>onStandStepChanged &lt;*&gt;</td>\n",
       "      <td>22</td>\n",
       "      <td>23</td>\n",
       "      <td>12</td>\n",
       "      <td>2017</td>\n",
       "    </tr>\n",
       "    <tr>\n",
       "      <th>1</th>\n",
       "      <td>2</td>\n",
       "      <td>2017-12-23 22:15:29.615</td>\n",
       "      <td>Step_LSC</td>\n",
       "      <td>30002312</td>\n",
       "      <td>onExtend:1514038530000 14 0 4</td>\n",
       "      <td>E39</td>\n",
       "      <td>onExtend:&lt;*&gt; &lt;*&gt; &lt;*&gt; &lt;*&gt;</td>\n",
       "      <td>22</td>\n",
       "      <td>23</td>\n",
       "      <td>12</td>\n",
       "      <td>2017</td>\n",
       "    </tr>\n",
       "    <tr>\n",
       "      <th>2</th>\n",
       "      <td>3</td>\n",
       "      <td>2017-12-23 22:15:29.633</td>\n",
       "      <td>Step_StandReportReceiver</td>\n",
       "      <td>30002312</td>\n",
       "      <td>onReceive action: android.intent.action.SCREEN_ON</td>\n",
       "      <td>E41</td>\n",
       "      <td>onReceive action: android.intent.action.SCREEN_ON</td>\n",
       "      <td>22</td>\n",
       "      <td>23</td>\n",
       "      <td>12</td>\n",
       "      <td>2017</td>\n",
       "    </tr>\n",
       "    <tr>\n",
       "      <th>3</th>\n",
       "      <td>4</td>\n",
       "      <td>2017-12-23 22:15:29.635</td>\n",
       "      <td>Step_LSC</td>\n",
       "      <td>30002312</td>\n",
       "      <td>processHandleBroadcastAction action:android.in...</td>\n",
       "      <td>E43</td>\n",
       "      <td>processHandleBroadcastAction action:android.in...</td>\n",
       "      <td>22</td>\n",
       "      <td>23</td>\n",
       "      <td>12</td>\n",
       "      <td>2017</td>\n",
       "    </tr>\n",
       "    <tr>\n",
       "      <th>4</th>\n",
       "      <td>5</td>\n",
       "      <td>2017-12-23 22:15:29.635</td>\n",
       "      <td>Step_StandStepCounter</td>\n",
       "      <td>30002312</td>\n",
       "      <td>flush sensor data</td>\n",
       "      <td>E12</td>\n",
       "      <td>flush sensor data</td>\n",
       "      <td>22</td>\n",
       "      <td>23</td>\n",
       "      <td>12</td>\n",
       "      <td>2017</td>\n",
       "    </tr>\n",
       "  </tbody>\n",
       "</table>\n",
       "</div>"
      ],
      "text/plain": [
       "   LineId                    Time                 Component       Pid  \\\n",
       "0       1 2017-12-23 22:15:29.606                  Step_LSC  30002312   \n",
       "1       2 2017-12-23 22:15:29.615                  Step_LSC  30002312   \n",
       "2       3 2017-12-23 22:15:29.633  Step_StandReportReceiver  30002312   \n",
       "3       4 2017-12-23 22:15:29.635                  Step_LSC  30002312   \n",
       "4       5 2017-12-23 22:15:29.635     Step_StandStepCounter  30002312   \n",
       "\n",
       "                                             Content EventId  \\\n",
       "0                            onStandStepChanged 3579     E42   \n",
       "1                      onExtend:1514038530000 14 0 4     E39   \n",
       "2  onReceive action: android.intent.action.SCREEN_ON     E41   \n",
       "3  processHandleBroadcastAction action:android.in...     E43   \n",
       "4                                  flush sensor data     E12   \n",
       "\n",
       "                                       EventTemplate  Hour  Day  Month  Year  \n",
       "0                             onStandStepChanged <*>    22   23     12  2017  \n",
       "1                           onExtend:<*> <*> <*> <*>    22   23     12  2017  \n",
       "2  onReceive action: android.intent.action.SCREEN_ON    22   23     12  2017  \n",
       "3  processHandleBroadcastAction action:android.in...    22   23     12  2017  \n",
       "4                                  flush sensor data    22   23     12  2017  "
      ]
     },
     "execution_count": 9,
     "metadata": {},
     "output_type": "execute_result"
    }
   ],
   "source": [
    "df.head()"
   ]
  },
  {
   "cell_type": "code",
   "execution_count": 10,
   "id": "5e606d7d",
   "metadata": {},
   "outputs": [],
   "source": [
    "# Steps taken event\n",
    "steps_df = df[df['EventTemplate'] == 'onStandStepChanged <*>'].copy()"
   ]
  },
  {
   "cell_type": "code",
   "execution_count": 12,
   "id": "4edcb4a7",
   "metadata": {},
   "outputs": [],
   "source": [
    "# Extracting steps from Content\n",
    "steps_df['Steps'] = steps_df['Content'].str.extract('(\\d+)').astype(int)"
   ]
  },
  {
   "cell_type": "code",
   "execution_count": 13,
   "id": "d35f5720",
   "metadata": {
    "scrolled": true
   },
   "outputs": [
    {
     "data": {
      "text/html": [
       "<div>\n",
       "<style scoped>\n",
       "    .dataframe tbody tr th:only-of-type {\n",
       "        vertical-align: middle;\n",
       "    }\n",
       "\n",
       "    .dataframe tbody tr th {\n",
       "        vertical-align: top;\n",
       "    }\n",
       "\n",
       "    .dataframe thead th {\n",
       "        text-align: right;\n",
       "    }\n",
       "</style>\n",
       "<table border=\"1\" class=\"dataframe\">\n",
       "  <thead>\n",
       "    <tr style=\"text-align: right;\">\n",
       "      <th></th>\n",
       "      <th>LineId</th>\n",
       "      <th>Time</th>\n",
       "      <th>Component</th>\n",
       "      <th>Pid</th>\n",
       "      <th>Content</th>\n",
       "      <th>EventId</th>\n",
       "      <th>EventTemplate</th>\n",
       "      <th>Hour</th>\n",
       "      <th>Day</th>\n",
       "      <th>Month</th>\n",
       "      <th>Year</th>\n",
       "      <th>Steps</th>\n",
       "    </tr>\n",
       "  </thead>\n",
       "  <tbody>\n",
       "    <tr>\n",
       "      <th>0</th>\n",
       "      <td>1</td>\n",
       "      <td>2017-12-23 22:15:29.606</td>\n",
       "      <td>Step_LSC</td>\n",
       "      <td>30002312</td>\n",
       "      <td>onStandStepChanged 3579</td>\n",
       "      <td>E42</td>\n",
       "      <td>onStandStepChanged &lt;*&gt;</td>\n",
       "      <td>22</td>\n",
       "      <td>23</td>\n",
       "      <td>12</td>\n",
       "      <td>2017</td>\n",
       "      <td>3579</td>\n",
       "    </tr>\n",
       "    <tr>\n",
       "      <th>7</th>\n",
       "      <td>8</td>\n",
       "      <td>2017-12-23 22:15:29.636</td>\n",
       "      <td>Step_LSC</td>\n",
       "      <td>30002312</td>\n",
       "      <td>onStandStepChanged 3579</td>\n",
       "      <td>E42</td>\n",
       "      <td>onStandStepChanged &lt;*&gt;</td>\n",
       "      <td>22</td>\n",
       "      <td>23</td>\n",
       "      <td>12</td>\n",
       "      <td>2017</td>\n",
       "      <td>3579</td>\n",
       "    </tr>\n",
       "    <tr>\n",
       "      <th>12</th>\n",
       "      <td>13</td>\n",
       "      <td>2017-12-23 22:15:29.738</td>\n",
       "      <td>Step_LSC</td>\n",
       "      <td>30002312</td>\n",
       "      <td>onStandStepChanged 3579</td>\n",
       "      <td>E42</td>\n",
       "      <td>onStandStepChanged &lt;*&gt;</td>\n",
       "      <td>22</td>\n",
       "      <td>23</td>\n",
       "      <td>12</td>\n",
       "      <td>2017</td>\n",
       "      <td>3579</td>\n",
       "    </tr>\n",
       "    <tr>\n",
       "      <th>13</th>\n",
       "      <td>14</td>\n",
       "      <td>2017-12-23 22:15:29.792</td>\n",
       "      <td>Step_LSC</td>\n",
       "      <td>30002312</td>\n",
       "      <td>onStandStepChanged 3580</td>\n",
       "      <td>E42</td>\n",
       "      <td>onStandStepChanged &lt;*&gt;</td>\n",
       "      <td>22</td>\n",
       "      <td>23</td>\n",
       "      <td>12</td>\n",
       "      <td>2017</td>\n",
       "      <td>3580</td>\n",
       "    </tr>\n",
       "    <tr>\n",
       "      <th>20</th>\n",
       "      <td>21</td>\n",
       "      <td>2017-12-23 22:15:30.331</td>\n",
       "      <td>Step_LSC</td>\n",
       "      <td>30002312</td>\n",
       "      <td>onStandStepChanged 3581</td>\n",
       "      <td>E42</td>\n",
       "      <td>onStandStepChanged &lt;*&gt;</td>\n",
       "      <td>22</td>\n",
       "      <td>23</td>\n",
       "      <td>12</td>\n",
       "      <td>2017</td>\n",
       "      <td>3581</td>\n",
       "    </tr>\n",
       "  </tbody>\n",
       "</table>\n",
       "</div>"
      ],
      "text/plain": [
       "    LineId                    Time Component       Pid  \\\n",
       "0        1 2017-12-23 22:15:29.606  Step_LSC  30002312   \n",
       "7        8 2017-12-23 22:15:29.636  Step_LSC  30002312   \n",
       "12      13 2017-12-23 22:15:29.738  Step_LSC  30002312   \n",
       "13      14 2017-12-23 22:15:29.792  Step_LSC  30002312   \n",
       "20      21 2017-12-23 22:15:30.331  Step_LSC  30002312   \n",
       "\n",
       "                    Content EventId           EventTemplate  Hour  Day  Month  \\\n",
       "0   onStandStepChanged 3579     E42  onStandStepChanged <*>    22   23     12   \n",
       "7   onStandStepChanged 3579     E42  onStandStepChanged <*>    22   23     12   \n",
       "12  onStandStepChanged 3579     E42  onStandStepChanged <*>    22   23     12   \n",
       "13  onStandStepChanged 3580     E42  onStandStepChanged <*>    22   23     12   \n",
       "20  onStandStepChanged 3581     E42  onStandStepChanged <*>    22   23     12   \n",
       "\n",
       "    Year  Steps  \n",
       "0   2017   3579  \n",
       "7   2017   3579  \n",
       "12  2017   3579  \n",
       "13  2017   3580  \n",
       "20  2017   3581  "
      ]
     },
     "execution_count": 13,
     "metadata": {},
     "output_type": "execute_result"
    }
   ],
   "source": [
    "steps_df.head()"
   ]
  },
  {
   "cell_type": "code",
   "execution_count": 14,
   "id": "6cf754ce",
   "metadata": {},
   "outputs": [
    {
     "data": {
      "text/plain": [
       "(260, 12)"
      ]
     },
     "execution_count": 14,
     "metadata": {},
     "output_type": "execute_result"
    }
   ],
   "source": [
    "steps_df.shape"
   ]
  },
  {
   "cell_type": "code",
   "execution_count": 15,
   "id": "b3aef802",
   "metadata": {},
   "outputs": [],
   "source": [
    "# Creating a 'Date' column from 'Year', 'Month', and 'Day'\n",
    "steps_df['Date'] = pd.to_datetime(steps_df[['Year', 'Month', 'Day']])"
   ]
  },
  {
   "cell_type": "code",
   "execution_count": 16,
   "id": "d2dc8be5",
   "metadata": {},
   "outputs": [],
   "source": [
    "# Aggregating steps by day\n",
    "daily_steps = steps_df.groupby('Date')['Steps'].sum().reset_index()"
   ]
  },
  {
   "cell_type": "code",
   "execution_count": 23,
   "id": "90487af0",
   "metadata": {
    "scrolled": true
   },
   "outputs": [
    {
     "data": {
      "text/plain": [
       "<Figure size 1400x700 with 0 Axes>"
      ]
     },
     "metadata": {},
     "output_type": "display_data"
    },
    {
     "data": {
      "image/png": "[encoded data removed]",
      "text/plain": [
       "<Figure size 640x480 with 1 Axes>"
      ]
     },
     "metadata": {},
     "output_type": "display_data"
    }
   ],
   "source": [
    "# Plotting daily steps\n",
    "plt.figure(figsize=(14, 7))\n",
    "daily_steps.plot(kind='line', x='Date', y='Steps', legend=None)\n",
    "plt.title('Steps Taken Daily')\n",
    "plt.xlabel('Date')\n",
    "plt.ylabel('Number of Steps')\n",
    "plt.xticks(rotation=45)\n",
    "plt.tight_layout()\n",
    "plt.show()"
   ]
  },
  {
   "cell_type": "code",
   "execution_count": 18,
   "id": "d876fdd5",
   "metadata": {},
   "outputs": [],
   "source": [
    "# Aggregating events by hour to find active times\n",
    "active_hours = df.groupby('Hour')['EventId'].count().reset_index()"
   ]
  },
  {
   "cell_type": "code",
   "execution_count": 19,
   "id": "a0d7cf60",
   "metadata": {},
   "outputs": [
    {
     "data": {
      "text/plain": [
       "<Figure size 1400x700 with 0 Axes>"
      ]
     },
     "metadata": {},
     "output_type": "display_data"
    },
    {
     "data": {
      "image/png": "[encoded data removed]",
      "text/plain": [
       "<Figure size 640x480 with 1 Axes>"
      ]
     },
     "metadata": {},
     "output_type": "display_data"
    }
   ],
   "source": [
    "# Plotting active hours\n",
    "plt.figure(figsize=(14, 7))\n",
    "active_hours.plot(kind='bar', x='Hour', y='EventId')\n",
    "plt.title('Active Hours Based on Events')\n",
    "plt.xlabel('Hour of Day')\n",
    "plt.ylabel('Number of Events')\n",
    "plt.xticks(rotation=0)\n",
    "plt.tight_layout()\n",
    "plt.show()"
   ]
  },
  {
   "cell_type": "code",
   "execution_count": 20,
   "id": "207cea31",
   "metadata": {},
   "outputs": [
    {
     "name": "stdout",
     "output_type": "stream",
     "text": [
      "        Date   Steps\n",
      "0 2017-12-23  876320\n",
      "1 2017-12-24   90864\n"
     ]
    }
   ],
   "source": [
    "# Output the head of daily steps for preview\n",
    "print(daily_steps.head())"
   ]
  },
  {
   "cell_type": "code",
   "execution_count": 21,
   "id": "aa7bfc96",
   "metadata": {
    "scrolled": false
   },
   "outputs": [
    {
     "name": "stdout",
     "output_type": "stream",
     "text": [
      "   Hour  EventId\n",
      "0     0      221\n",
      "1     1        3\n",
      "2    22     1243\n",
      "3    23      533\n"
     ]
    }
   ],
   "source": [
    "# Output the head of active hours for preview\n",
    "print(active_hours.head())"
   ]
  }
 ],
 "metadata": {
  "kernelspec": {
   "display_name": "Python 3 (ipykernel)",
   "language": "python",
   "name": "python3"
  },
  "language_info": {
   "codemirror_mode": {
    "name": "ipython",
    "version": 3
   },
   "file_extension": ".py",
   "mimetype": "text/x-python",
   "name": "python",
   "nbconvert_exporter": "python",
   "pygments_lexer": "ipython3",
   "version": "3.9.13"
  }
 },
 "nbformat": 4,
 "nbformat_minor": 5
}
